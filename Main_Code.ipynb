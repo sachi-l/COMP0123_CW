{
 "cells": [
  {
   "cell_type": "markdown",
   "metadata": {},
   "source": [
    "# Imports"
   ]
  },
  {
   "cell_type": "code",
   "execution_count": 1,
   "metadata": {},
   "outputs": [],
   "source": [
    "# all imports\n",
    "\n",
    "import pandas as pd"
   ]
  },
  {
   "cell_type": "markdown",
   "metadata": {},
   "source": [
    "# Creating All Dataframes (5 Minutes to Run)"
   ]
  },
  {
   "cell_type": "code",
   "execution_count": 2,
   "metadata": {},
   "outputs": [
    {
     "name": "stderr",
     "output_type": "stream",
     "text": [
      "/Users/sachilad/anaconda3/envs/sachi/lib/python3.7/site-packages/IPython/core/interactiveshell.py:3457: DtypeWarning: Columns (4) have mixed types.Specify dtype option on import or set low_memory=False.\n",
      "  exec(code_obj, self.user_global_ns, self.user_ns)\n"
     ]
    }
   ],
   "source": [
    "# creating all dataframes\n",
    "\n",
    "df_titles = pd.read_csv('title.basics.tsv', sep='\\t')"
   ]
  },
  {
   "cell_type": "code",
   "execution_count": 3,
   "metadata": {},
   "outputs": [],
   "source": [
    "df_principals = pd.read_csv('title.principals.tsv', sep='\\t')"
   ]
  },
  {
   "cell_type": "code",
   "execution_count": 4,
   "metadata": {},
   "outputs": [],
   "source": [
    "df_actors = pd.read_csv('name.basics.tsv', sep='\\t')"
   ]
  },
  {
   "cell_type": "markdown",
   "metadata": {},
   "source": [
    "# Cleaning Dataframes"
   ]
  },
  {
   "cell_type": "code",
   "execution_count": 81,
   "metadata": {},
   "outputs": [
    {
     "name": "stderr",
     "output_type": "stream",
     "text": [
      "/Users/sachilad/anaconda3/envs/sachi/lib/python3.7/site-packages/ipykernel_launcher.py:15: SettingWithCopyWarning: \n",
      "A value is trying to be set on a copy of a slice from a DataFrame.\n",
      "Try using .loc[row_indexer,col_indexer] = value instead\n",
      "\n",
      "See the caveats in the documentation: https://pandas.pydata.org/pandas-docs/stable/user_guide/indexing.html#returning-a-view-versus-a-copy\n",
      "  from ipykernel import kernelapp as app\n"
     ]
    }
   ],
   "source": [
    "# cleaning df_titles\n",
    "\n",
    "df_titles_clean = df_titles.copy()\n",
    "\n",
    "# remove everything but movies\n",
    "df_titles_clean_0 = df_titles_clean[df_titles_clean['titleType'] == 'movie']\n",
    "\n",
    "# remove adult titles\n",
    "df_titles_clean_1 = df_titles_clean_0[df_titles_clean_0['isAdult'] != 1]\n",
    "\n",
    "# remove start year being '\\N'\n",
    "df_titles_clean_2 = df_titles_clean_1[df_titles_clean_1['startYear'] != '\\\\N']\n",
    "\n",
    "# remove movies older than 1925 (assuming no actor is older than 100)\n",
    "df_titles_clean_2['startYear'] = pd.to_numeric(df_titles_clean_2['startYear'], errors='coerce')\n",
    "df_titles_clean_3 = df_titles_clean_2[df_titles_clean_2['startYear'] >= 1925]\n",
    "\n",
    "df_titles_final = df_titles_clean_3.copy()\n",
    "\n",
    "# print(df_titles_final.head())"
   ]
  },
  {
   "cell_type": "markdown",
   "metadata": {},
   "source": [
    "# Manipulating Dataframes for MCU"
   ]
  },
  {
   "cell_type": "markdown",
   "metadata": {},
   "source": [
    "### Filtering to Just MCU Movies"
   ]
  },
  {
   "cell_type": "code",
   "execution_count": 82,
   "metadata": {},
   "outputs": [
    {
     "data": {
      "text/plain": [
       "'\\ncertain movies not added\\n* Ant-Man and the Wasp\\n* Ant-Man Quantumania \\n'"
      ]
     },
     "execution_count": 82,
     "metadata": {},
     "output_type": "execute_result"
    }
   ],
   "source": [
    "'''filtering to just mcu movies'''\n",
    "\n",
    "# remove movies older than 2008 (as that was the first mcu release movie)\n",
    "df_titles_final = df_titles_final[df_titles_final['startYear'] >= 2008]\n",
    "\n",
    "# Load the CSV file containing the filter values\n",
    "mcu_movies_list = pd.read_csv('mcu_movies.csv')\n",
    "\n",
    "# Filter the df_titles DataFrame based on the values from the CSV file\n",
    "df_mcu_movies = df_titles_final[df_titles_final['primaryTitle'].isin(mcu_movies_list['Movie Title'])]\n",
    "\n",
    "# # Remove duplicates based on the originalTitle column\n",
    "df_mcu_movies = df_mcu_movies[df_mcu_movies['primaryTitle'] == df_mcu_movies['originalTitle']]\n",
    "# remove black widow movie duplicates\n",
    "df_mcu_movies = df_mcu_movies[~((df_mcu_movies['primaryTitle'] == 'Black Widow') & (df_mcu_movies['startYear'] != 2021))]\n",
    "\n",
    "'''\n",
    "certain movies not added\n",
    "* Ant-Man and the Wasp\n",
    "* Ant-Man Quantumania \n",
    "'''\n",
    "\n",
    "# # sanity check\n",
    "# # Count the number of rows in the DataFrame\n",
    "# num_rows = df_mcu_movies.shape[0]\n",
    "\n",
    "# # Print the number of rows\n",
    "# print(f\"Number of rows: {num_rows}\")\n",
    "\n",
    "# print(df_mcu_movies)"
   ]
  },
  {
   "cell_type": "code",
   "execution_count": 83,
   "metadata": {},
   "outputs": [],
   "source": [
    "# get id of each movie into csv file\n",
    "# tconst_series = df_mcu_movies['tconst']\n",
    "# tconst_series.to_csv('id_mcu_movies.csv', index=False)\n",
    "\n",
    "mcu_movies_ids_titles = df_mcu_movies[['tconst', 'primaryTitle']]\n",
    "mcu_movies_ids_titles.columns = ['tconst', 'title']\n",
    "mcu_movies_ids_titles.to_csv('id_mcu_movies.csv', index=False)\n"
   ]
  },
  {
   "cell_type": "markdown",
   "metadata": {},
   "source": [
    "### filtering to just mcu actors"
   ]
  },
  {
   "cell_type": "code",
   "execution_count": 84,
   "metadata": {},
   "outputs": [
    {
     "name": "stdout",
     "output_type": "stream",
     "text": [
      "            tconst  ordering     nconst category job              characters\n",
      "4139484  tt0371746         1  nm0000375    actor  \\N          [\"Tony Stark\"]\n",
      "4139485  tt0371746         2  nm0000569  actress  \\N        [\"Pepper Potts\"]\n",
      "4139486  tt0371746         3  nm0005024    actor  \\N              [\"Rhodey\"]\n",
      "4139487  tt0371746         4  nm0000313    actor  \\N       [\"Obadiah Stane\"]\n",
      "4139488  tt0371746         5  nm0004753  actress  \\N  [\"Christine Everhart\"]\n"
     ]
    }
   ],
   "source": [
    "# filtering df_principals to get actors and actresses \n",
    "\n",
    "'''\n",
    "# Unique values of category \n",
    "unique_values = df_principals['category'].unique()\n",
    "print(unique_values)\n",
    "# ['self' 'director' 'producer' 'cinematographer' 'composer' 'editor'\n",
    "# 'actor' 'actress' 'writer' 'production_designer' 'archive_footage'\n",
    "# 'casting_director' 'archive_sound']\n",
    "'''\n",
    "\n",
    "df_principals_clean = df_principals[df_principals['category'].isin(['actor', 'actress'])]\n",
    "\n",
    "# filter dataframe using title from id_mcu_movies csv file\n",
    "id_mcu_movies = pd.read_csv('id_mcu_movies.csv')\n",
    "df_principals_mcu_actors = df_principals_clean[df_principals_clean['tconst'].isin(id_mcu_movies['tconst'])]\n",
    "df_principals_mcu_actors = df_principals_mcu_actors.drop_duplicates()\n",
    "print(df_principals_mcu_actors.head())"
   ]
  },
  {
   "cell_type": "code",
   "execution_count": 85,
   "metadata": {},
   "outputs": [],
   "source": [
    "# create csv file of all actor ids of cast of the mcu movies\n",
    "mcu_actors_ids = df_principals_mcu_actors['nconst']\n",
    "mcu_actors_ids.to_csv('id_mcu_actors.csv', index=False)"
   ]
  },
  {
   "cell_type": "code",
   "execution_count": 86,
   "metadata": {},
   "outputs": [],
   "source": [
    "# create csv file of actors, movies and titles\n",
    "\n",
    "df_mcu_movie_actor_merge = df_principals_mcu_actors.merge(df_mcu_movies[['tconst', 'primaryTitle']], on='tconst', how='left')\n",
    "df_mcu_ids = df_mcu_movie_actor_merge[['nconst', 'tconst', 'primaryTitle']]\n",
    "df_mcu_ids = df_mcu_ids.rename(columns={'primaryTitle': 'title'})\n",
    "df_mcu_ids.to_csv('mcu_network.csv', index=False)"
   ]
  },
  {
   "cell_type": "markdown",
   "metadata": {},
   "source": [
    "### get mcu actor names into the csv file"
   ]
  },
  {
   "cell_type": "code",
   "execution_count": 87,
   "metadata": {},
   "outputs": [],
   "source": [
    "# filtering df_actors to get only the mcu actors in the data frame\n",
    "\n",
    "mcu_actors_ids = df_principals_mcu_actors['nconst']\n",
    "df_actors_mcu = df_actors[df_actors['nconst'].isin(mcu_actors_ids)]\n",
    "df_actors_mcu = df_actors_mcu.drop_duplicates()"
   ]
  },
  {
   "cell_type": "code",
   "execution_count": 88,
   "metadata": {},
   "outputs": [],
   "source": [
    "# adding the actors names into the id_mcu_actors csv file\n",
    "\n",
    "id_mcu_actors = pd.read_csv('id_mcu_actors.csv')\n",
    "df_actors_mcu_with_names = id_mcu_actors.merge(df_actors_mcu[['nconst', 'primaryName']], on='nconst', how='left')\n",
    "df_actors_mcu_with_names = df_actors_mcu_with_names.rename(columns={'primaryName' : 'name'})\n",
    "df_actors_mcu_with_names.to_csv('id_mcu_actors.csv', index=False)"
   ]
  },
  {
   "cell_type": "code",
   "execution_count": 89,
   "metadata": {},
   "outputs": [],
   "source": [
    "# adding the actors names to the mcu_network csv file\n",
    "\n",
    "df_mcu_network = pd.read_csv('mcu_network.csv')\n",
    "df_mcu_network_with_names = df_mcu_network.merge(df_actors_mcu[['nconst', 'primaryName']], on='nconst', how='left')\n",
    "df_mcu_network_with_names = df_mcu_network_with_names.rename(columns={'primaryName' : 'name'})\n",
    "df_mcu_network_with_names = df_mcu_network_with_names.drop_duplicates()\n",
    "df_mcu_network_with_names.to_csv('mcu_network.csv', index=False)"
   ]
  },
  {
   "cell_type": "markdown",
   "metadata": {},
   "source": [
    "# Manipulating Dataframes for Non-MCU Movies"
   ]
  },
  {
   "cell_type": "code",
   "execution_count": 90,
   "metadata": {},
   "outputs": [],
   "source": [
    "# getting all movies done by mcu actors \n",
    "\n",
    "df_mcu_actors = pd.read_csv('id_mcu_actors.csv')\n",
    "df_nonmcu_movies_noname = df_principals_clean[df_principals_clean['nconst'].isin(id_mcu_actors['nconst'])]\n",
    "\n",
    "# cleaning up dataframe\n",
    "columns_to_drop = ['ordering', 'job']\n",
    "df_nonmcu_movies_noname = df_nonmcu_movies_noname.drop(columns=columns_to_drop)"
   ]
  },
  {
   "cell_type": "code",
   "execution_count": 91,
   "metadata": {},
   "outputs": [
    {
     "name": "stdout",
     "output_type": "stream",
     "text": [
      "number of rows:  27621\n",
      "             tconst     nconst category             characters\n",
      "418563    tt0035423  nm0413168    actor            [\"Leopold\"]\n",
      "697612    tt0053545  nm0000602    actor         [\"Tad Dundee\"]\n",
      "697613    tt0053545  nm0000602    actor            [\"Torsett\"]\n",
      "747945    tt0056675  nm0000602    actor    [\"Pvt. Roy Loomis\"]\n",
      "749755    tt0056791  nm0000621    actor  [\"Jaimie McPheeters\"]\n",
      "...             ...        ...      ...                    ...\n",
      "90103156  tt9903408  nm0001838  actress                     \\N\n",
      "90107236  tt9904522  nm0915989    actor           [\"Narrator\"]\n",
      "90107237  tt9904522  nm0915989    actor    [\"Self - Narrator\"]\n",
      "90107616  tt9904670  nm0000353    actor           [\"Narrator\"]\n",
      "90126633  tt9909526  nm0169806    actor     [\"Bodil de Resny\"]\n",
      "\n",
      "[27621 rows x 4 columns]\n"
     ]
    }
   ],
   "source": [
    "num_rows = df_nonmcu_movies_noname.shape[0]\n",
    "print(\"number of rows: \",  num_rows)\n",
    "\n",
    "print(df_nonmcu_movies_noname)"
   ]
  },
  {
   "cell_type": "code",
   "execution_count": 93,
   "metadata": {},
   "outputs": [],
   "source": [
    "# add actor names to dataframe\n",
    "df_nonmcu_movies = df_nonmcu_movies_noname.merge(df_mcu_actors[['nconst', 'name']], on='nconst', how='left')"
   ]
  },
  {
   "cell_type": "code",
   "execution_count": 100,
   "metadata": {},
   "outputs": [],
   "source": [
    "# add movie title to dataframe\n",
    "\n",
    "df_nonmcu_movies_with_titles = df_nonmcu_movies.merge(df_titles_final[['tconst', 'primaryTitle']], on='tconst', how='left')\n"
   ]
  },
  {
   "cell_type": "code",
   "execution_count": null,
   "metadata": {},
   "outputs": [],
   "source": [
    "# final cleaning and save to csv \n",
    "\n",
    "# Drop rows where primaryTitle is NaN\n",
    "df_nonmcu_movies_with_titles_cleaned = df_nonmcu_movies_with_titles.dropna(subset=['primaryTitle'])\n",
    "df_nonmcu_movies_with_titles_cleaned = df_nonmcu_movies_with_titles_cleaned.drop_duplicates()\n",
    "df_nonmcu_movies_with_titles_cleaned.to_csv('nonmcu_network.csv', index=False)"
   ]
  }
 ],
 "metadata": {
  "kernelspec": {
   "display_name": "sachi",
   "language": "python",
   "name": "python3"
  },
  "language_info": {
   "codemirror_mode": {
    "name": "ipython",
    "version": 3
   },
   "file_extension": ".py",
   "mimetype": "text/x-python",
   "name": "python",
   "nbconvert_exporter": "python",
   "pygments_lexer": "ipython3",
   "version": "3.7.3"
  }
 },
 "nbformat": 4,
 "nbformat_minor": 2
}
